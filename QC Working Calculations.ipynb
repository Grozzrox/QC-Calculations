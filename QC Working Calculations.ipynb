{
 "cells": [
  {
   "cell_type": "code",
   "execution_count": 11,
   "metadata": {},
   "outputs": [],
   "source": [
    "#Program to calculate the coefficient of variation between two values.\n",
    "\n",
    "import math\n",
    "\n",
    "def cv_dup_check(num1, num2):\n",
    "    \n",
    "    mean = (num1+num2)/2\n",
    "    \n",
    "    n1 = (num1-mean)**2\n",
    "    n2 = (num2-mean)**2\n",
    "    \n",
    "    n3 = n1+n2\n",
    "    std_dev = math.sqrt(n3)\n",
    "    \n",
    "    CV = (std_dev/mean)*100\n",
    "    \n",
    "    return CV"
   ]
  },
  {
   "cell_type": "code",
   "execution_count": 13,
   "metadata": {},
   "outputs": [
    {
     "data": {
      "text/plain": [
       "47.14045207910317"
      ]
     },
     "execution_count": 13,
     "metadata": {},
     "output_type": "execute_result"
    }
   ],
   "source": [
    "cv_dup_check(5,10)"
   ]
  },
  {
   "cell_type": "code",
   "execution_count": 14,
   "metadata": {},
   "outputs": [],
   "source": [
    "#Dixons Outlier test given 4 values.\n",
    "\n",
    "def dixons_outlier_4_values(n1,n2,n3,n4):\n",
    "    \n",
    "    list1 = [n1,n2,n3,n4]\n",
    "    list1.sort()\n",
    "    \n",
    "    dixon_test1 =(list1[1]-list1[0])/(list1[3]-list1[0])\n",
    "    dixon_test2 =(list1[3]-list1[2])/(list1[3]-list1[0])\n",
    "    \n",
    "    if dixon_test1 > 0.765:\n",
    "        print(list1[0],\"X\")\n",
    "        print(list1[1])\n",
    "        print(list1[2])\n",
    "        print(list1[3])\n",
    "        \n",
    "    elif dixon_test2 > 0.765:\n",
    "        print(list1[0])\n",
    "        print(list1[1])\n",
    "        print(list1[2])\n",
    "        print(list1[3],\"X\")\n",
    "        \n",
    "    else:\n",
    "        print(\"No outliers determined.\")"
   ]
  },
  {
   "cell_type": "code",
   "execution_count": 23,
   "metadata": {},
   "outputs": [
    {
     "name": "stdout",
     "output_type": "stream",
     "text": [
      "38 X\n",
      "55\n",
      "58\n",
      "60\n"
     ]
    }
   ],
   "source": [
    "dixons_outlier_4_values(58,55,60,38)"
   ]
  },
  {
   "cell_type": "code",
   "execution_count": 12,
   "metadata": {},
   "outputs": [],
   "source": [
    "#Program for calculating the percent difference from theoretical given 6 values and the theoretical value.\n",
    "\n",
    "def DFT_check(n1,n2,n3,n4,n5,n6,theoretical):\n",
    "    \n",
    "    n_mean = (n1+n2+n3+n4+n5+n6)/6\n",
    "    \n",
    "    DFT = ((n_mean-theoretical)/theoretical)*100\n",
    "    \n",
    "    return (f'DFT = {DFT}%')"
   ]
  },
  {
   "cell_type": "code",
   "execution_count": null,
   "metadata": {},
   "outputs": [],
   "source": [
    "DFT_check()"
   ]
  },
  {
   "cell_type": "code",
   "execution_count": 6,
   "metadata": {},
   "outputs": [],
   "source": [
    "#Program for calculating 5 different concentrations given starting concentration, spiking volume and total volume.\n",
    "\n",
    "def control_prep5():\n",
    "    \n",
    "    spike1 = float(input(\"Starting concentration? (1 of 5) \"))\n",
    "    spike2 = float(input(\"Starting concentration? (2 of 5) \"))\n",
    "    spike3 = float(input(\"Starting concentration? (3 of 5) \"))\n",
    "    spike4 = float(input(\"Starting concentration? (4 of 5) \"))\n",
    "    spike5 = float(input(\"Starting concentration? (5 of 5) \"))\n",
    "    \n",
    "    spike_vol1 = float(input(\"Spiking volume? (1 of 5) \"))\n",
    "    spike_vol2 = float(input(\"Spiking volume? (2 of 5) \"))\n",
    "    spike_vol3 = float(input(\"Spiking volume? (3 of 5) \"))\n",
    "    spike_vol4 = float(input(\"Spiking volume? (4 of 5) \"))\n",
    "    spike_vol5 = float(input(\"Spiking volume? (5 of 5) \"))\n",
    "    \n",
    "    tot_vol1 = float(input(\"Total volume? (1 of 5) \"))\n",
    "    tot_vol2 = float(input(\"Total volume? (2 of 5) \"))\n",
    "    tot_vol3 = float(input(\"Total volume? (3 of 5) \"))\n",
    "    tot_vol4 = float(input(\"Total volume? (4 of 5) \"))\n",
    "    tot_vol5 = float(input(\"Total volume? (5 of 5) \"))\n",
    "                         \n",
    "    conc1 = (spike1*spike_vol1)/tot_vol1\n",
    "    conc2 = (spike2*spike_vol2)/tot_vol2\n",
    "    conc3 = (spike3*spike_vol3)/tot_vol3\n",
    "    conc4 = (spike4*spike_vol4)/tot_vol4\n",
    "    conc5 = (spike5*spike_vol5)/tot_vol5\n",
    "    \n",
    "    print(\"\\n\")      \n",
    "    print(f'Final concentration 1: {conc1}')\n",
    "    print(f'Final concentration 2: {conc2}')\n",
    "    print(f'Final concentration 3: {conc3}')\n",
    "    print(f'Final concentration 4: {conc4}')\n",
    "    print(f'Final concentration 5: {conc5}')"
   ]
  },
  {
   "cell_type": "code",
   "execution_count": null,
   "metadata": {},
   "outputs": [],
   "source": [
    "control_prep5()"
   ]
  },
  {
   "cell_type": "code",
   "execution_count": 9,
   "metadata": {},
   "outputs": [],
   "source": [
    "#A larger program designed to calculate the final conentrations of 15 samples given starting concentration, spiking volume and total volume.\n",
    "\n",
    "def control_prep_15():\n",
    "    \n",
    "    spike1 = float(input(\"Starting concentration? (1 of 15) \"))\n",
    "    spike2 = float(input(\"Starting concentration? (2 of 15) \"))\n",
    "    spike3 = float(input(\"Starting concentration? (3 of 15) \"))\n",
    "    spike4 = float(input(\"Starting concentration? (4 of 15) \"))\n",
    "    spike5 = float(input(\"Starting concentration? (5 of 15) \"))\n",
    "    spike6 = float(input(\"Starting concentration? (6 of 15) \"))\n",
    "    spike7 = float(input(\"Starting concentration? (7 of 15) \"))\n",
    "    spike8 = float(input(\"Starting concentration? (8 of 15) \"))\n",
    "    spike9 = float(input(\"Starting concentration? (9 of 15) \"))\n",
    "    spike10 = float(input(\"Starting concentration? (10 of 15) \"))\n",
    "    spike11 = float(input(\"Starting concentration? (11 of 15) \"))\n",
    "    spike12 = float(input(\"Starting concentration? (12 of 15) \"))\n",
    "    spike13 = float(input(\"Starting concentration? (13 of 15) \"))\n",
    "    spike14 = float(input(\"Starting concentration? (14 of 15) \"))\n",
    "    spike15 = float(input(\"Starting concentration? (15 of 15) \"))\n",
    "    \n",
    "    spike_vol1 = float(input(\"Spiking volume? (1 of 15) \"))\n",
    "    spike_vol2 = float(input(\"Spiking volume? (2 of 15) \"))\n",
    "    spike_vol3 = float(input(\"Spiking volume? (3 of 15) \"))\n",
    "    spike_vol4 = float(input(\"Spiking volume? (4 of 15) \"))\n",
    "    spike_vol5 = float(input(\"Spiking volume? (5 of 15) \"))\n",
    "    spike_vol6 = float(input(\"Spiking volume? (6 of 15) \"))\n",
    "    spike_vol7 = float(input(\"Spiking volume? (7 of 15) \"))\n",
    "    spike_vol8 = float(input(\"Spiking volume? (8 of 15) \"))\n",
    "    spike_vol9 = float(input(\"Spiking volume? (9 of 15) \"))\n",
    "    spike_vol10 = float(input(\"Spiking volume? (10 of 15) \"))\n",
    "    spike_vol11 = float(input(\"Spiking volume? (11 of 15) \"))\n",
    "    spike_vol12 = float(input(\"Spiking volume? (12 of 15) \"))\n",
    "    spike_vol13 = float(input(\"Spiking volume? (13 of 15) \"))\n",
    "    spike_vol14 = float(input(\"Spiking volume? (14 of 15) \"))\n",
    "    spike_vol15 = float(input(\"Spiking volume? (15 of 15) \"))\n",
    "    \n",
    "    tot_vol1 = float(input(\"Total volume? (1 of 15) \"))\n",
    "    tot_vol2 = float(input(\"Total volume? (2 of 15) \"))\n",
    "    tot_vol3 = float(input(\"Total volume? (3 of 15) \"))\n",
    "    tot_vol4 = float(input(\"Total volume? (4 of 15) \"))\n",
    "    tot_vol5 = float(input(\"Total volume? (5 of 15) \"))\n",
    "    tot_vol6 = float(input(\"Total volume? (6 of 15) \"))\n",
    "    tot_vol7 = float(input(\"Total volume? (7 of 15) \"))\n",
    "    tot_vol8 = float(input(\"Total volume? (8 of 15) \"))\n",
    "    tot_vol9 = float(input(\"Total volume? (9 of 15) \"))\n",
    "    tot_vol10 = float(input(\"Total volume? (10 of 15) \"))\n",
    "    tot_vol11 = float(input(\"Total volume? (11 of 15) \"))\n",
    "    tot_vol12 = float(input(\"Total volume? (12 of 15) \"))\n",
    "    tot_vol13 = float(input(\"Total volume? (13 of 15) \"))\n",
    "    tot_vol14 = float(input(\"Total volume? (14 of 15) \"))\n",
    "    tot_vol15 = float(input(\"Total volume? (15 of 15) \"))\n",
    "                         \n",
    "    conc1 = (spike1*spike_vol1)/tot_vol1\n",
    "    conc2 = (spike2*spike_vol2)/tot_vol2\n",
    "    conc3 = (spike3*spike_vol3)/tot_vol3\n",
    "    conc4 = (spike4*spike_vol4)/tot_vol4\n",
    "    conc5 = (spike5*spike_vol5)/tot_vol5\n",
    "    conc6 = (spike6*spike_vol6)/tot_vol6\n",
    "    conc7 = (spike7*spike_vol7)/tot_vol7\n",
    "    conc8 = (spike8*spike_vol8)/tot_vol8\n",
    "    conc9 = (spike9*spike_vol9)/tot_vol9\n",
    "    conc10 = (spike10*spike_vol10)/tot_vol10\n",
    "    conc11 = (spike11*spike_vol11)/tot_vol11\n",
    "    conc12 = (spike12*spike_vol12)/tot_vol12\n",
    "    conc13 = (spike13*spike_vol13)/tot_vol13\n",
    "    conc14 = (spike14*spike_vol14)/tot_vol14\n",
    "    conc15 = (spike15*spike_vol15)/tot_vol15\n",
    "    \n",
    "    print(\"\\n\")      \n",
    "    print(f'Final concentration 1: {conc1}')\n",
    "    print(f'Final concentration 2: {conc2}')\n",
    "    print(f'Final concentration 3: {conc3}')\n",
    "    print(f'Final concentration 4: {conc4}')\n",
    "    print(f'Final concentration 5: {conc5}')\n",
    "    print(f'Final concentration 6: {conc6}')\n",
    "    print(f'Final concentration 7: {conc7}')\n",
    "    print(f'Final concentration 8: {conc8}')\n",
    "    print(f'Final concentration 9: {conc9}')\n",
    "    print(f'Final concentration 10: {conc10}')\n",
    "    print(f'Final concentration 11: {conc11}')\n",
    "    print(f'Final concentration 12: {conc12}')\n",
    "    print(f'Final concentration 13: {conc13}')\n",
    "    print(f'Final concentration 14: {conc14}')\n",
    "    print(f'Final concentration 15: {conc15}')"
   ]
  },
  {
   "cell_type": "code",
   "execution_count": 8,
   "metadata": {},
   "outputs": [
    {
     "ename": "TypeError",
     "evalue": "median_finder() takes 1 positional argument but 8 were given",
     "output_type": "error",
     "traceback": [
      "\u001b[1;31m---------------------------------------------------------------------------\u001b[0m",
      "\u001b[1;31mTypeError\u001b[0m                                 Traceback (most recent call last)",
      "\u001b[1;32m<ipython-input-8-be635f516f34>\u001b[0m in \u001b[0;36m<module>\u001b[1;34m\u001b[0m\n\u001b[1;32m----> 1\u001b[1;33m \u001b[0mmedian_finder\u001b[0m\u001b[1;33m(\u001b[0m\u001b[1;36m5\u001b[0m\u001b[1;33m,\u001b[0m\u001b[1;36m6\u001b[0m\u001b[1;33m,\u001b[0m\u001b[1;36m2\u001b[0m\u001b[1;33m,\u001b[0m\u001b[1;36m10\u001b[0m\u001b[1;33m,\u001b[0m\u001b[1;36m5\u001b[0m\u001b[1;33m,\u001b[0m\u001b[1;36m7\u001b[0m\u001b[1;33m,\u001b[0m\u001b[1;36m3\u001b[0m\u001b[1;33m,\u001b[0m\u001b[1;36m4\u001b[0m\u001b[1;33m)\u001b[0m\u001b[1;33m\u001b[0m\u001b[1;33m\u001b[0m\u001b[0m\n\u001b[0m",
      "\u001b[1;31mTypeError\u001b[0m: median_finder() takes 1 positional argument but 8 were given"
     ]
    }
   ],
   "source": [
    "control_prep_15()"
   ]
  },
  {
   "cell_type": "code",
   "execution_count": 24,
   "metadata": {},
   "outputs": [],
   "source": [
    "#Program for calculating the percent inhibition of the negative control in an immunogenicity assay.\n",
    "\n",
    "def NC_inhibition(num1,num2):\n",
    "    \n",
    "    inh = (1-(num1/num2))*100\n",
    "    \n",
    "    return inh"
   ]
  },
  {
   "cell_type": "code",
   "execution_count": null,
   "metadata": {},
   "outputs": [],
   "source": [
    "NC_inhibition()"
   ]
  },
  {
   "cell_type": "code",
   "execution_count": 25,
   "metadata": {},
   "outputs": [],
   "source": [
    "#Program for calculating the percent inhibition of the low positive control in an immunogenicity assay.\n",
    "\n",
    "def LPC_inhibition(num1,num2):\n",
    "    \n",
    "    inh = (1-(num1/num2))*100\n",
    "    \n",
    "    return inh"
   ]
  },
  {
   "cell_type": "code",
   "execution_count": null,
   "metadata": {},
   "outputs": [],
   "source": [
    "LPC_inhibition()"
   ]
  },
  {
   "cell_type": "code",
   "execution_count": 26,
   "metadata": {},
   "outputs": [],
   "source": [
    "#Program for calculating the percent inhibition of the mid positive control in an immunogenicity assay.\n",
    "\n",
    "def MPC_inhibition(num1,num2):\n",
    "    \n",
    "    inh = (1-(num1/num2))*100\n",
    "    \n",
    "    return inh"
   ]
  },
  {
   "cell_type": "code",
   "execution_count": null,
   "metadata": {},
   "outputs": [],
   "source": [
    "MPC_inhibition()"
   ]
  },
  {
   "cell_type": "code",
   "execution_count": 27,
   "metadata": {},
   "outputs": [],
   "source": [
    "#Program for calculating the percent inhibition of the high positive control in an immunogenicity assay.\n",
    "\n",
    "def HPC_inhibition(num1,num2):\n",
    "    \n",
    "    inh = (1-(num1/num2))*100\n",
    "    \n",
    "    return inh"
   ]
  },
  {
   "cell_type": "code",
   "execution_count": null,
   "metadata": {},
   "outputs": [],
   "source": [
    "HPC_inhibition()"
   ]
  }
 ],
 "metadata": {
  "kernelspec": {
   "display_name": "Python 3",
   "language": "python",
   "name": "python3"
  },
  "language_info": {
   "codemirror_mode": {
    "name": "ipython",
    "version": 3
   },
   "file_extension": ".py",
   "mimetype": "text/x-python",
   "name": "python",
   "nbconvert_exporter": "python",
   "pygments_lexer": "ipython3",
   "version": "3.7.1"
  }
 },
 "nbformat": 4,
 "nbformat_minor": 2
}
